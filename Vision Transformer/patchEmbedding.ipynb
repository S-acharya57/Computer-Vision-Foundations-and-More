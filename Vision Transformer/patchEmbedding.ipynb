{
 "cells": [
  {
   "cell_type": "code",
   "execution_count": 4,
   "id": "3aacb062-99cf-43f0-a85f-386057d85d29",
   "metadata": {},
   "outputs": [],
   "source": [
    "import torch\n",
    "import torch.nn as nn\n",
    "import torchvision\n",
    "from torchvision import transforms"
   ]
  },
  {
   "cell_type": "code",
   "execution_count": 54,
   "id": "63e2fdf9-8bc1-4940-94a3-b25830292bff",
   "metadata": {},
   "outputs": [],
   "source": [
    "import matplotlib.pyplot as plt \n",
    "import numpy as np "
   ]
  },
  {
   "cell_type": "markdown",
   "id": "8a482e73-4158-4bec-bfb7-9c4a6b6f9e4f",
   "metadata": {},
   "source": [
    "### PatchEmbedding\n",
    "\n",
    "The first part of ViT is to split the image in different patches. "
   ]
  },
  {
   "cell_type": "code",
   "execution_count": 59,
   "id": "f8a4694b-9e8e-4c4d-b98e-4ee3d9d4bd59",
   "metadata": {},
   "outputs": [],
   "source": [
    "class PatchEmbedding(nn.Module):\n",
    "    def __init__(self, patch_size, input_channels, embedding_dim):\n",
    "        super(PatchEmbedding, self).__init__()\n",
    "        self.patch_size = patch_size\n",
    "        self.embedding_dim = embedding_dim\n",
    "\n",
    "        self.projection = nn.Conv2d(\n",
    "            in_channels=input_channels,\n",
    "            out_channels=embedding_dim,\n",
    "            kernel_size=patch_size,\n",
    "            stride=patch_size\n",
    "        )\n",
    "\n",
    "    def forward(self, x):\n",
    "        B, C, H, W = x.shape\n",
    "        print(f'X shape: {x.shape}')\n",
    "        assert H%self.patch_size==0 and W%self.patch_size==0, \"Image size must be divisible by patch size\"\n",
    "\n",
    "        x = self.projection(x)\n",
    "        print(f'After projection, X shape: {x.shape}')\n",
    "        print(f'After flatten(2), X shape: {x.flatten(2).shape}')\n",
    "        x = x.flatten(2).transpose(1, 2)\n",
    "\n",
    "        return x"
   ]
  },
  {
   "cell_type": "code",
   "execution_count": 46,
   "id": "a504c776-9977-4590-a778-cd9064201985",
   "metadata": {},
   "outputs": [
    {
     "data": {
      "text/plain": [
       "PatchEmbedding(\n",
       "  (projection): Conv2d(3, 64, kernel_size=(4, 4), stride=(4, 4))\n",
       ")"
      ]
     },
     "execution_count": 46,
     "metadata": {},
     "output_type": "execute_result"
    }
   ],
   "source": [
    "patch_embedding = PatchEmbedding(patch_size=4, input_channels=3, embedding_dim=64)\n",
    "patch_embedding"
   ]
  },
  {
   "cell_type": "code",
   "execution_count": 47,
   "id": "95b86230-e552-40ab-89f5-14d3efa1e4a2",
   "metadata": {},
   "outputs": [
    {
     "name": "stdout",
     "output_type": "stream",
     "text": [
      "X shape: torch.Size([32, 3, 32, 32])\n",
      "After projection, X shape: torch.Size([32, 64, 8, 8])\n",
      "After flatten(2), X shape: torch.Size([32, 64, 64])\n"
     ]
    },
    {
     "data": {
      "text/plain": [
       "torch.Size([32, 64, 64])"
      ]
     },
     "execution_count": 47,
     "metadata": {},
     "output_type": "execute_result"
    }
   ],
   "source": [
    "patch_embedding(torch.randn(32,3,32,32)).shape"
   ]
  },
  {
   "cell_type": "code",
   "execution_count": 51,
   "id": "58ad2bd7-a543-4408-956c-0d958352d68c",
   "metadata": {},
   "outputs": [],
   "source": [
    "transform = transforms.Compose([\n",
    "    transforms.Resize((28, 28)),\n",
    "    transforms.ToTensor()\n",
    "])\n",
    "\n",
    "data_train = torchvision.datasets.MNIST(root=\"./data\", train=True, download=True, transform=transform)\n",
    "data_loader = torch.utils.data.DataLoader(data_train, batch_size=1, shuffle=True)"
   ]
  },
  {
   "cell_type": "code",
   "execution_count": 60,
   "id": "77316fa9-ebda-42bd-aace-9d41e785c31d",
   "metadata": {},
   "outputs": [
    {
     "name": "stdout",
     "output_type": "stream",
     "text": [
      "Label: 6\n"
     ]
    },
    {
     "data": {
      "image/png": "[encoded data removed]",
      "text/plain": [
       "<Figure size 500x500 with 1 Axes>"
      ]
     },
     "metadata": {},
     "output_type": "display_data"
    },
    {
     "name": "stdout",
     "output_type": "stream",
     "text": [
      "X shape: torch.Size([1, 1, 28, 28])\n",
      "After projection, X shape: torch.Size([1, 8, 4, 4])\n",
      "After flatten(2), X shape: torch.Size([1, 8, 16])\n"
     ]
    },
    {
     "data": {
      "image/png": "[encoded data removed]",
      "text/plain": [
       "<Figure size 1000x1000 with 16 Axes>"
      ]
     },
     "metadata": {},
     "output_type": "display_data"
    }
   ],
   "source": [
    "def visualize_patch_embedding():\n",
    "    device = torch.device(\"cuda\" if torch.cuda.is_available() else \"cpu\")\n",
    "\n",
    "    patch_size = 7\n",
    "    embedding_dim = 8\n",
    "    patch_embedder = PatchEmbedding(\n",
    "        patch_size=patch_size,\n",
    "        input_channels=1,\n",
    "        embedding_dim=embedding_dim\n",
    "    ).to(device)\n",
    "\n",
    "    for batch in data_loader:\n",
    "        img, label = batch\n",
    "        img = img.to(device)\n",
    "        print(f\"Label: {label.item()}\")\n",
    "\n",
    "        # original\n",
    "        plt.figure(figsize=(5, 5))\n",
    "        plt.title(\"Original Image\")\n",
    "        plt.imshow(img.squeeze(0).squeeze(0).cpu().numpy(), cmap=\"gray\")\n",
    "        plt.axis(\"off\")\n",
    "        plt.show()\n",
    "\n",
    "        embedded_patches = patch_embedder(img)\n",
    "\n",
    "        # as grid\n",
    "        patches = embedded_patches.squeeze(0).detach().cpu().numpy()\n",
    "        num_patches = patches.shape[0]\n",
    "        fig, axes = plt.subplots(\n",
    "            nrows=int(np.sqrt(num_patches)), \n",
    "            ncols=int(np.sqrt(num_patches)), \n",
    "            figsize=(10, 10)\n",
    "        )\n",
    "\n",
    "        for i, ax in enumerate(axes.flat):\n",
    "            if i < num_patches:\n",
    "                ax.imshow(patches[i].reshape(embedding_dim, -1), cmap=\"viridis\")\n",
    "                ax.axis(\"off\")\n",
    "\n",
    "        plt.suptitle(\"Patch Embeddings\")\n",
    "        plt.show()\n",
    "        break\n",
    "\n",
    "visualize_patch_embedding()\n"
   ]
  },
  {
   "cell_type": "code",
   "execution_count": null,
   "id": "8b10dc19-52bf-4789-b862-2fa93cb5b361",
   "metadata": {},
   "outputs": [],
   "source": []
  },
  {
   "cell_type": "code",
   "execution_count": null,
   "id": "6d7198cf-8423-4f1f-bb75-19fc470f8b68",
   "metadata": {},
   "outputs": [],
   "source": []
  }
 ],
 "metadata": {
  "kernelspec": {
   "display_name": "torch",
   "language": "python",
   "name": "torch"
  },
  "language_info": {
   "codemirror_mode": {
    "name": "ipython",
    "version": 3
   },
   "file_extension": ".py",
   "mimetype": "text/x-python",
   "name": "python",
   "nbconvert_exporter": "python",
   "pygments_lexer": "ipython3",
   "version": "3.11.4"
  }
 },
 "nbformat": 4,
 "nbformat_minor": 5
}
