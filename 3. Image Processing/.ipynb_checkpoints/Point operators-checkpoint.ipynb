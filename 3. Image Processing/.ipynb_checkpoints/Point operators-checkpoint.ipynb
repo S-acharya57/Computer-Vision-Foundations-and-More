{
 "cells": [
  {
   "cell_type": "code",
   "execution_count": 1,
   "id": "315ae099-999f-45a8-a7e0-08ee40580113",
   "metadata": {},
   "outputs": [],
   "source": [
    "import cv2 \n",
    "import numpy as np "
   ]
  },
  {
   "cell_type": "code",
   "execution_count": null,
   "id": "c8764047-e0e1-4fce-b928-3d5cbfbf277a",
   "metadata": {},
   "outputs": [],
   "source": []
  }
 ],
 "metadata": {
  "kernelspec": {
   "display_name": "Python 3 (ipykernel)",
   "language": "python",
   "name": "python3"
  },
  "language_info": {
   "codemirror_mode": {
    "name": "ipython",
    "version": 3
   },
   "file_extension": ".py",
   "mimetype": "text/x-python",
   "name": "python",
   "nbconvert_exporter": "python",
   "pygments_lexer": "ipython3",
   "version": "3.11.4"
  }
 },
 "nbformat": 4,
 "nbformat_minor": 5
}
