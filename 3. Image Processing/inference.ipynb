{
 "cells": [
  {
   "cell_type": "code",
   "execution_count": 1,
   "metadata": {},
   "outputs": [],
   "source": [
    "import cv2 \n",
    "import pixel_processing\n",
    "from plotly.subplots import make_subplots\n",
    "import numpy as np \n",
    "import plotly.graph_objects as go\n",
    "import plotly.express as px \n",
    "import plotly.io as pio"
   ]
  },
  {
   "cell_type": "markdown",
   "metadata": {},
   "source": [
    "## Pixel Processing"
   ]
  },
  {
   "cell_type": "code",
   "execution_count": 2,
   "metadata": {},
   "outputs": [
    {
     "name": "stdout",
     "output_type": "stream",
     "text": [
      "Help on function change_brightness in module pixel_processing:\n",
      "\n",
      "change_brightness(image_path, brightness_level: int)\n",
      "    Function to change the brightness of image with pixel level operation\n",
      "    Pixels are added by the brightness level\n",
      "    \n",
      "    Arguments:\n",
      "        image -- path of the image to read\n",
      "        brightness_level -- level of brightness for the new image\n",
      "\n"
     ]
    }
   ],
   "source": [
    "help(pixel_processing.change_brightness)"
   ]
  },
  {
   "cell_type": "code",
   "execution_count": 3,
   "metadata": {},
   "outputs": [
    {
     "name": "stdout",
     "output_type": "stream",
     "text": [
      "Help on function change_contrast in module pixel_processing:\n",
      "\n",
      "change_contrast(image_path, contrast_level: int)\n",
      "    Function to change the contrast of image with pixel level operation\n",
      "    Pixels are multiplied by the contrast level\n",
      "    \n",
      "    Arguments:\n",
      "        image -- path of the image to read\n",
      "        brightness_level -- level of brightness for the new image\n",
      "\n"
     ]
    }
   ],
   "source": [
    "help(pixel_processing.change_contrast)"
   ]
  },
  {
   "cell_type": "code",
   "execution_count": 4,
   "metadata": {},
   "outputs": [],
   "source": [
    "img_path = \"../flowers/bougainvillea_00019.jpg\"\n",
    "img = cv2.imread(img_path)\n",
    "contrast_img = pixel_processing.change_contrast(img_path, 1.3)\n",
    "brightness_img = pixel_processing.change_brightness(img_path, -40)"
   ]
  },
  {
   "cell_type": "code",
   "execution_count": 5,
   "metadata": {},
   "outputs": [],
   "source": [
    "images = [img, contrast_img, brightness_img]"
   ]
  },
  {
   "cell_type": "code",
   "execution_count": 8,
   "metadata": {},
   "outputs": [],
   "source": [
    "fig = make_subplots(rows=3, cols=2, \n",
    "                    subplot_titles=['Image 1', 'Histogram 1', \n",
    "                                    'Image 2', 'Histogram 2', \n",
    "                                    'Image 3', 'Histogram 3'],\n",
    "                    column_widths=[0.5, 0.5])  # Make image and histogram the same width\n",
    "\n",
    "for i in range(1, 4):\n",
    "    img = images[i-1]\n",
    "    \n",
    "    fig.add_trace(go.Image(z=img), row=i, col=1)\n",
    "    \n",
    "    for channel, color in enumerate(['red', 'green', 'blue']):\n",
    "        fig.add_trace(\n",
    "            go.Histogram(\n",
    "                x=img[..., channel].ravel(),\n",
    "                opacity=0.5,\n",
    "                marker_color=color,\n",
    "                name=\"%s channel\" %color,\n",
    "                histnorm='probability',  # Normalized histograms\n",
    "            ),\n",
    "            row=i, col=2  # Second column for histogram\n",
    "        )\n",
    "    \n",
    "    # Use logarithmic scale for y-axis \n",
    "    # displays smaller values better\n",
    "    fig.update_yaxes(type=\"log\", row=i, col=2)\n",
    "\n",
    "\n",
    "fig.update_layout(height=700,  # Increase the height for larger images\n",
    "                  width=1000, \n",
    "                  title_text=\"Images and Color Histograms\",\n",
    "                  showlegend=False, \n",
    "                  bargap=0.1)\n",
    "\n",
    "# # Write the final figure\n",
    "# pio.write_image(fig, 'pixel_processing1', format='png', scale=1, width=1000, height=800)\n",
    "pio.write_image(fig, 'pixel_processing1.png', width=3840, height=2160)"
   ]
  },
  {
   "cell_type": "markdown",
   "metadata": {},
   "source": [
    "![](pixel_processing1.png)"
   ]
  },
  {
   "cell_type": "code",
   "execution_count": null,
   "metadata": {},
   "outputs": [],
   "source": []
  }
 ],
 "metadata": {
  "kernelspec": {
   "display_name": "torch",
   "language": "python",
   "name": "torch"
  },
  "language_info": {
   "codemirror_mode": {
    "name": "ipython",
    "version": 3
   },
   "file_extension": ".py",
   "mimetype": "text/x-python",
   "name": "python",
   "nbconvert_exporter": "python",
   "pygments_lexer": "ipython3",
   "version": "3.11.4"
  }
 },
 "nbformat": 4,
 "nbformat_minor": 2
}
