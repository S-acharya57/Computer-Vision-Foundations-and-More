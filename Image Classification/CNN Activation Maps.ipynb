{
 "cells": [
  {
   "cell_type": "markdown",
   "id": "43805aee-b3c1-4aae-87a7-bdce1db336f8",
   "metadata": {},
   "source": [
    "#### Objective: Visualizing activation maps after passing through a convolution layer\n",
    "\n",
    "Activation maps represent which parts of the image the convolutional filters respond to."
   ]
  },
  {
   "cell_type": "code",
   "execution_count": 1,
   "id": "deb13ea1-7b05-4f46-815e-6714194c81b5",
   "metadata": {},
   "outputs": [],
   "source": [
    "import torch\n",
    "import torch.nn as nn\n",
    "from torch.utils.data import Dataset, DataLoader, TensorDataset\n",
    "import torchvision\n",
    "\n",
    "from torchsummary import summary\n",
    "\n",
    "import numpy as np\n",
    "import matplotlib.pyplot as plt \n",
    "%matplotlib inline "
   ]
  },
  {
   "cell_type": "code",
   "execution_count": 2,
   "id": "f416302a-259a-4790-ba48-5eed181a798a",
   "metadata": {},
   "outputs": [
    {
     "data": {
      "text/plain": [
       "'cuda'"
      ]
     },
     "execution_count": 2,
     "metadata": {},
     "output_type": "execute_result"
    }
   ],
   "source": [
    "device = \"cuda\" if torch.cuda.is_available() else \"cpu\"\n",
    "device "
   ]
  },
  {
   "cell_type": "code",
   "execution_count": 3,
   "id": "94636a01-a871-4c93-ae6f-c8b4a458be8c",
   "metadata": {},
   "outputs": [
    {
     "name": "stdout",
     "output_type": "stream",
     "text": [
      "torch.Size([2, 1, 4, 4])\n",
      "X_train:\n",
      "tensor([[[[ 0.1250,  0.2500,  0.3750,  0.5000],\n",
      "          [ 0.2500,  0.3750,  0.5000,  0.6250],\n",
      "          [ 0.6250,  0.7500,  0.8750,  1.0000],\n",
      "          [ 0.1250,  0.3750,  0.5000,  0.6250]]],\n",
      "\n",
      "\n",
      "        [[[-0.1250,  0.2500,  0.3750, -0.5000],\n",
      "          [ 0.2500, -0.3750,  0.5000,  0.6250],\n",
      "          [-0.6250,  0.7500, -0.8750,  1.0000],\n",
      "          [-0.1250, -0.3750, -0.5000, -0.6250]]]], device='cuda:0')\n",
      "y_train:\n",
      "tensor([0., 1.], device='cuda:0')\n"
     ]
    }
   ],
   "source": [
    "X_train = torch.tensor([[[[1,2,3,4], [2,3,4,5],\n",
    "                         [5,6,7,8], [1,3,4,5]]],\n",
    "                       [[[-1,2,3,-4], [2,-3,4,5],\n",
    "                        [-5,6,-7,8],[-1,-3,-4,-5]]]]).to(device).float() # [batch_size x channels x height x width]\n",
    "print(X_train.shape)\n",
    "X_train = X_train/8 \n",
    "y_train = torch.tensor([0,1]).to(device).float()\n",
    "print(f'X_train:\\n{X_train}')\n",
    "print(f'y_train:\\n{y_train}')"
   ]
  },
  {
   "cell_type": "code",
   "execution_count": null,
   "id": "db83c389-571c-40f3-aeb3-49bcd2995823",
   "metadata": {},
   "outputs": [],
   "source": []
  },
  {
   "cell_type": "code",
   "execution_count": 4,
   "id": "77c7f4a4-5bcf-4da3-8a98-701e8265c8b6",
   "metadata": {},
   "outputs": [],
   "source": [
    "class SimpleCNN(nn.Module):\n",
    "    def __init__(self):\n",
    "        super(SimpleCNN, self).__init__()\n",
    "        self.conv1 = nn.Conv2d(1, 1, kernel_size=3) # input should have 1 channel, output of this conv will have 1 channel too\n",
    "        self.pool = nn.MaxPool2d(2)\n",
    "        self.relu = nn.ReLU()\n",
    "        self.flatten = nn.Flatten()\n",
    "        self.fc = nn.Linear(1, 1)  \n",
    "        self.sigmoid = nn.Sigmoid()\n",
    "        \n",
    "    def forward(self, x):\n",
    "        x = self.conv1(x)\n",
    "        x = self.pool(x)\n",
    "        x = self.relu(x)\n",
    "        x = self.flatten(x)\n",
    "        x = self.fc(x)\n",
    "        x = self.sigmoid(x)\n",
    "        return x"
   ]
  },
  {
   "cell_type": "code",
   "execution_count": 5,
   "id": "d7a9065c-982f-4fd7-b5a0-864f25af4111",
   "metadata": {},
   "outputs": [],
   "source": [
    "model = SimpleCNN().to(device)\n",
    "criterion = nn.BCELoss()  # for binary classification\n",
    "optimizer = torch.optim.Adam(model.parameters(), lr=1e-3)"
   ]
  },
  {
   "cell_type": "code",
   "execution_count": 6,
   "id": "73215580-a26f-4c54-8534-39dab0b8328a",
   "metadata": {},
   "outputs": [],
   "source": [
    "# hook to capture activation map\n",
    "activation = {}\n",
    "\n",
    "def get_activation(name):\n",
    "    def hook(model, input_, output_):\n",
    "        activation[name] = output_.detach()\n",
    "    return hook "
   ]
  },
  {
   "cell_type": "markdown",
   "id": "33c92e40-a65b-493b-82e4-0dbf502894dd",
   "metadata": {},
   "source": [
    "### Hook:\n",
    "Hook function in PyTorch allow to intercept output of a specific layer in a NN. i.e. Capturing intermediate activations of a layer while network is processing data. "
   ]
  },
  {
   "cell_type": "code",
   "execution_count": 7,
   "id": "05cb1af3-f3d6-487a-bc24-79c78f14a214",
   "metadata": {},
   "outputs": [
    {
     "data": {
      "text/plain": [
       "<torch.utils.hooks.RemovableHandle at 0x140dccc1d90>"
      ]
     },
     "execution_count": 7,
     "metadata": {},
     "output_type": "execute_result"
    }
   ],
   "source": [
    "model.conv1.register_forward_hook(get_activation('conv1'))"
   ]
  },
  {
   "cell_type": "code",
   "execution_count": 9,
   "id": "5d7e9a0b-6f8f-4068-a307-df8c6047db0a",
   "metadata": {},
   "outputs": [
    {
     "data": {
      "text/plain": [
       "torch.Size([2, 1])"
      ]
     },
     "execution_count": 9,
     "metadata": {},
     "output_type": "execute_result"
    }
   ],
   "source": [
    "output = model(X_train)\n",
    "output.shape "
   ]
  },
  {
   "cell_type": "code",
   "execution_count": 10,
   "id": "417b23bb-ca1d-413f-9e50-0d6d7b0db6bc",
   "metadata": {},
   "outputs": [],
   "source": [
    "def plot_activation_maps(activation, num_images=2):\n",
    "    # activation maps for each image in the batch\n",
    "    fig, axes = plt.subplots(num_images, 1, figsize=(4, 4*num_images))\n",
    "    for i in range(num_images):\n",
    "        act = activation['conv1'][i].cpu().squeeze()  # remove batch and channel dimensions\n",
    "        if num_images == 1:\n",
    "            ax = axes\n",
    "        else:\n",
    "            ax = axes[i]\n",
    "        ax.imshow(act, cmap='viridis')\n",
    "        ax.set_title(f'Activation Map for Sample {i+1}')\n",
    "        ax.axis('off')\n",
    "    plt.tight_layout()\n",
    "    plt.show()"
   ]
  },
  {
   "cell_type": "code",
   "execution_count": 11,
   "id": "9884ed65-c044-4ace-aada-1a51ab0805ef",
   "metadata": {},
   "outputs": [
    {
     "data": {
      "image/png": "[encoded data removed]",
      "text/plain": [
       "<Figure size 400x800 with 2 Axes>"
      ]
     },
     "metadata": {},
     "output_type": "display_data"
    }
   ],
   "source": [
    "plot_activation_maps(activation, num_images=2)"
   ]
  },
  {
   "cell_type": "markdown",
   "id": "411e9487-5e19-443f-af23-5d6ccbffe488",
   "metadata": {},
   "source": [
    "For more complex dataset"
   ]
  },
  {
   "cell_type": "code",
   "execution_count": 37,
   "id": "d5d97858-6e18-4798-9128-6a0b88ab5e16",
   "metadata": {},
   "outputs": [
    {
     "name": "stdout",
     "output_type": "stream",
     "text": [
      "Generated dataset shape: torch.Size([4, 1, 32, 32])\n"
     ]
    }
   ],
   "source": [
    "def create_shape_dataset(size=32, num_samples=10):\n",
    "    images, labels = [], []\n",
    "    for _ in range(num_samples):\n",
    "        shape = np.random.choice(['circle', 'square'])\n",
    "        img = np.zeros((size, size), dtype=np.float32)\n",
    "        if shape == 'circle':\n",
    "            rr, cc = np.ogrid[:size, :size]\n",
    "            mask = (rr - size // 2) ** 2 + (cc - size // 2) ** 2 <= (size // 4) ** 2\n",
    "            img[mask] = 1\n",
    "            labels.append(0)  # 0 for circle\n",
    "        else:\n",
    "            img[size // 4:size * 3 // 4, size // 4:size * 3 // 4] = 1\n",
    "            labels.append(1)  # 1 for square\n",
    "        images.append(img)\n",
    "    return torch.tensor(images).unsqueeze(1), torch.tensor(labels)\n",
    "\n",
    "images, labels = create_shape_dataset(num_samples=4)\n",
    "print(\"Generated dataset shape:\", images.shape)"
   ]
  },
  {
   "cell_type": "code",
   "execution_count": null,
   "id": "5ffef4ed-9cf0-4784-b3b9-7a57b289a44d",
   "metadata": {},
   "outputs": [],
   "source": []
  },
  {
   "cell_type": "code",
   "execution_count": 30,
   "id": "f1aa64ce-8c0b-42ee-9293-4933e5933070",
   "metadata": {},
   "outputs": [],
   "source": [
    "class SimpleCNN2(nn.Module):\n",
    "    def __init__(self):\n",
    "        super(SimpleCNN2, self).__init__()\n",
    "        self.conv1 = nn.Conv2d(1, 4, kernel_size=3, padding=1)  # 4 filters\n",
    "        self.relu = nn.ReLU()\n",
    "        self.pool = nn.MaxPool2d(2, 2)\n",
    "    \n",
    "    def forward(self, x):\n",
    "        x = self.pool(self.relu(self.conv1(x)))\n",
    "        return x"
   ]
  },
  {
   "cell_type": "code",
   "execution_count": 31,
   "id": "d7d3dfc3-9624-4c0c-a89c-1c84cbf3bd38",
   "metadata": {},
   "outputs": [
    {
     "data": {
      "text/plain": [
       "<torch.utils.hooks.RemovableHandle at 0x140f671a490>"
      ]
     },
     "execution_count": 31,
     "metadata": {},
     "output_type": "execute_result"
    }
   ],
   "source": [
    "model = SimpleCNN2()\n",
    "\n",
    "activations = {}\n",
    "def hook_fn2(module, input, output):\n",
    "    activations['conv1'] = output\n",
    "\n",
    "model.conv1.register_forward_hook(hook_fn2)"
   ]
  },
  {
   "cell_type": "code",
   "execution_count": 36,
   "id": "6a6c19bc-7a16-401d-935b-1a6e55203ce9",
   "metadata": {},
   "outputs": [
    {
     "data": {
      "image/png": "[encoded data removed]",
      "text/plain": [
       "<Figure size 1500x600 with 20 Axes>"
      ]
     },
     "metadata": {},
     "output_type": "display_data"
    }
   ],
   "source": [
    "model(images)\n",
    "\n",
    "fig, axes = plt.subplots(len(images), 5, figsize=(15, 6))\n",
    "\n",
    "for i in range(len(images)):\n",
    "    axes[i, 0].imshow(images[i].squeeze(), cmap=\"gray\")\n",
    "    axes[i, 0].set_title(\"Original\")\n",
    "    axes[i, 0].axis(\"off\")\n",
    "    \n",
    "    for j in range(4):\n",
    "        activation_map = activations['conv1'][i, j].detach().numpy()\n",
    "        axes[i, j+1].imshow(activation_map, cmap=\"viridis\")\n",
    "        axes[i, j+1].set_title(f\"Filter {j+1}\")\n",
    "        axes[i, j+1].axis(\"off\")\n",
    "\n",
    "plt.tight_layout()\n",
    "plt.show()\n"
   ]
  },
  {
   "cell_type": "markdown",
   "id": "9b31c9f1-4a57-45d8-a6a8-ef48b63ed7ae",
   "metadata": {},
   "source": [
    "For ellipse in the image"
   ]
  },
  {
   "cell_type": "code",
   "execution_count": 33,
   "id": "9be06daf-621f-4af4-9b98-de0594402002",
   "metadata": {},
   "outputs": [],
   "source": [
    "def generate_varied_image():\n",
    "    img = np.zeros((32, 32), dtype=np.float32)\n",
    "    \n",
    "    # a gradient from left to right \n",
    "    img[:, :16] = np.linspace(0, 1, 16)\n",
    "    img[:, 16:] = np.linspace(1, 0, 16)\n",
    "    \n",
    "    # diagonal line\n",
    "    for i in range(0, 32, 4):\n",
    "        img[i:i+2, :] = 0.5  # horizontal stripes\n",
    "    \n",
    "    # ellipse in center\n",
    "    rr, cc = np.ogrid[:32, :32]\n",
    "    mask = ((rr - 16) ** 2 / 64 + (cc - 16) ** 2 / 64) <= 1\n",
    "    img[mask] = 0.8  \n",
    "    \n",
    "    return torch.tensor(img).unsqueeze(0).unsqueeze(0)\n",
    "    \n",
    "image = generate_varied_image()"
   ]
  },
  {
   "cell_type": "code",
   "execution_count": 35,
   "id": "9aa82013-1224-4d96-87a9-efa067777956",
   "metadata": {},
   "outputs": [
    {
     "data": {
      "image/png": "[encoded data removed]",
      "text/plain": [
       "<Figure size 1800x600 with 5 Axes>"
      ]
     },
     "metadata": {},
     "output_type": "display_data"
    }
   ],
   "source": [
    "model(image)\n",
    "\n",
    "fig, axes = plt.subplots(1, 5, figsize=(18, 6))\n",
    "\n",
    "axes[0].imshow(image.squeeze(), cmap=\"gray\")\n",
    "axes[0].set_title(\"Original Image\")\n",
    "axes[0].axis(\"off\")\n",
    "\n",
    "for i in range(4):\n",
    "    activation_map = activations['conv1'][0, i].detach().numpy()\n",
    "    axes[i + 1].imshow(activation_map, cmap=\"viridis\")\n",
    "    axes[i + 1].set_title(f\"Filter {i+1}\")\n",
    "    axes[i + 1].axis(\"off\")\n",
    "\n",
    "plt.tight_layout()\n",
    "plt.show()"
   ]
  },
  {
   "cell_type": "markdown",
   "id": "7995722e-13a4-49c0-96c2-0099af716c4b",
   "metadata": {},
   "source": [
    "Here, 4 different filters are seen giving 4 different maps of the original image. Such more filters help understand and capture more features from an image. Thus, we can understand how CNN is processing the image and the features it is learning to detect."
   ]
  }
 ],
 "metadata": {
  "kernelspec": {
   "display_name": "torch",
   "language": "python",
   "name": "torch"
  },
  "language_info": {
   "codemirror_mode": {
    "name": "ipython",
    "version": 3
   },
   "file_extension": ".py",
   "mimetype": "text/x-python",
   "name": "python",
   "nbconvert_exporter": "python",
   "pygments_lexer": "ipython3",
   "version": "3.11.4"
  }
 },
 "nbformat": 4,
 "nbformat_minor": 5
}
